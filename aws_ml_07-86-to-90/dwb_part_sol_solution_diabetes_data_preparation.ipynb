{
 "cells": [
  {
   "cell_type": "code",
   "execution_count": null,
   "metadata": {
    "scrolled": true
   },
   "outputs": [],
   "source": [
    "# SOLUTION:\n",
    "\n",
    "# Solution for correcting data quality issues\n",
    "# Debug data first!\n",
    "\n",
    "# In this dataset, we have lot of observations that have missing values\n",
    "# Missing values are represented using 0s\n",
    "# We need to impute values; one option is to find out mean for every class and use that as a substitute \n",
    "# for missing values\n",
    "# With these changes,the model F1 score improves from 0.65 to 0.81\n",
    "\n",
    "import numpy as np\n",
    "import pandas as pd\n",
    "import matplotlib.pyplot as plt"
   ]
  },
  {
   "cell_type": "markdown",
   "metadata": {},
   "source": [
    "<h2>Diabetes Binary Classification Dataset</h2>\n",
    "\n",
    "Input Features:\n",
    "'preg_count', 'glucose_concentration', 'diastolic_bp', 'triceps_skin_fold_thickness', two_hr_serum_insulin', 'bmi', 'diabetes_pedi', 'age' <br>\n",
    "\n",
    "Target Feature: \n",
    "'diabetes_class'<br>\n",
    "\n",
    "Objective: Predict diabetes_class for given input features<br>\n",
    "\n",
    "<h4>Data Source: https://archive.ics.uci.edu/ml/datasets/pima+indians+diabetes </h4>"
   ]
  },
  {
   "cell_type": "code",
   "execution_count": null,
   "metadata": {
    "scrolled": true
   },
   "outputs": [],
   "source": [
    "columns = ['diabetes_class', 'preg_count', 'glucose_concentration', 'diastolic_bp',\n",
    "       'triceps_skin_fold_thickness', 'two_hr_serum_insulin', 'bmi',\n",
    "       'diabetes_pedi', 'age']"
   ]
  },
  {
   "cell_type": "code",
   "execution_count": null,
   "metadata": {
    "scrolled": true
   },
   "outputs": [],
   "source": [
    "df = pd.read_csv('pima_indians_diabetes_all.csv')"
   ]
  },
  {
   "cell_type": "code",
   "execution_count": null,
   "metadata": {},
   "outputs": [],
   "source": [
    "# Look for any columns that have NA\n",
    "df.isna().any(axis=0)"
   ]
  },
  {
   "cell_type": "code",
   "execution_count": null,
   "metadata": {},
   "outputs": [],
   "source": [
    "df.describe()"
   ]
  },
  {
   "cell_type": "code",
   "execution_count": null,
   "metadata": {},
   "outputs": [],
   "source": [
    "print(df.describe())"
   ]
  },
  {
   "cell_type": "code",
   "execution_count": null,
   "metadata": {},
   "outputs": [],
   "source": [
    "#DWB# Investigating data.\n",
    "df_0_glucose_cncntrtn = df[df['glucose_concentration'] == 0]\n",
    "print(df_0_glucose_cncntrtn.head())"
   ]
  },
  {
   "cell_type": "code",
   "execution_count": null,
   "metadata": {},
   "outputs": [],
   "source": [
    "df['glucose_concentration'].hist()\n",
    "plt.show()"
   ]
  },
  {
   "cell_type": "code",
   "execution_count": null,
   "metadata": {},
   "outputs": [],
   "source": [
    "#DWB#  Attempt at mean with both broups combined,\n",
    "#DWB#+ need deep copy now.\n",
    "df_no_group = df.copy(deep=True)\n",
    "df_no_group['glucose_concentration'].hist()\n",
    "plt.show()"
   ]
  },
  {
   "cell_type": "code",
   "execution_count": null,
   "metadata": {},
   "outputs": [],
   "source": [
    "# Find Summary Statistics for Each Class\n",
    "# Impute values based on class\n",
    "# https://stackoverflow.com/questions/19966018/pandas-filling-missing-values-by-mean-in-each-group\n",
    "group_class = df.groupby('diabetes_class')"
   ]
  },
  {
   "cell_type": "code",
   "execution_count": null,
   "metadata": {},
   "outputs": [],
   "source": [
    "# First few rows of each group\n",
    "group_class.head(2)"
   ]
  },
  {
   "cell_type": "code",
   "execution_count": null,
   "metadata": {},
   "outputs": [],
   "source": [
    "#DWB#\n",
    "print(group_class.head(2))"
   ]
  },
  {
   "cell_type": "code",
   "execution_count": null,
   "metadata": {},
   "outputs": [],
   "source": [
    "# Attribute Mean value is different for each group\n",
    "group_class.mean()"
   ]
  },
  {
   "cell_type": "code",
   "execution_count": null,
   "metadata": {},
   "outputs": [],
   "source": [
    "#DWB#\n",
    "print(group_class.mean())"
   ]
  },
  {
   "cell_type": "code",
   "execution_count": null,
   "metadata": {
    "scrolled": true
   },
   "outputs": [],
   "source": [
    "df['diabetes_class'].value_counts()"
   ]
  },
  {
   "cell_type": "code",
   "execution_count": null,
   "metadata": {},
   "outputs": [],
   "source": [
    "# For each group, use group level averages to fill missing values\n",
    "df['glucose_concentration'] = group_class['glucose_concentration'].transform(lambda x: x.replace(0,x.mean()))\n",
    "df['diastolic_bp'] = group_class['diastolic_bp'].transform(lambda x: x.replace(0,x.mean()))\n",
    "df['triceps_skin_fold_thickness'] = group_class['triceps_skin_fold_thickness'].transform(lambda x: x.replace(0,x.mean()))\n",
    "df['two_hr_serum_insulin'] = group_class['two_hr_serum_insulin'].transform(lambda x: x.replace(0,x.mean()))\n",
    "df['bmi'] = group_class['bmi'].transform(lambda x: x.replace(0,x.mean()))\n",
    "df['diabetes_pedi'] = group_class['diabetes_pedi'].transform(lambda x: x.replace(0,x.mean()))\n",
    "df['age'] = group_class['age'].transform(lambda x: x.replace(0,x.mean()))"
   ]
  },
  {
   "cell_type": "code",
   "execution_count": null,
   "metadata": {},
   "outputs": [],
   "source": [
    "df_no_group['glucose_concentration'] = df_no_group['glucose_concentration'].transform(lambda x: x.replace(0,x.mean()))\n",
    "df_no_group['diastolic_bp'] = df_no_group['diastolic_bp'].transform(lambda x: x.replace(0,x.mean()))\n",
    "df_no_group['triceps_skin_fold_thickness'] = df_no_group['triceps_skin_fold_thickness'].transform(lambda x: x.replace(0,x.mean()))\n",
    "df_no_group['two_hr_serum_insulin'] = df_no_group['two_hr_serum_insulin'].transform(lambda x: x.replace(0,x.mean()))\n",
    "df_no_group['bmi'] = df_no_group['bmi'].transform(lambda x: x.replace(0,x.mean()))\n",
    "df_no_group['diabetes_pedi'] = df_no_group['diabetes_pedi'].transform(lambda x: x.replace(0,x.mean()))\n",
    "df_no_group['age'] = df_no_group['age'].transform(lambda x: x.replace(0,x.mean()))"
   ]
  },
  {
   "cell_type": "code",
   "execution_count": null,
   "metadata": {
    "scrolled": true
   },
   "outputs": [],
   "source": [
    "df.head()"
   ]
  },
  {
   "cell_type": "code",
   "execution_count": null,
   "metadata": {},
   "outputs": [],
   "source": [
    "#DWB#\n",
    "print(df.head())"
   ]
  },
  {
   "cell_type": "code",
   "execution_count": null,
   "metadata": {},
   "outputs": [],
   "source": [
    "#DWB#\n",
    "df_no_group.head()"
   ]
  },
  {
   "cell_type": "code",
   "execution_count": null,
   "metadata": {},
   "outputs": [],
   "source": [
    "#DWB#\n",
    "print(df_no_group.head())"
   ]
  },
  {
   "cell_type": "code",
   "execution_count": null,
   "metadata": {},
   "outputs": [],
   "source": [
    "#DWB#  Let's see if this made a difference. I'll do histograms,\n",
    "#DWB#+ below, but I noticed that we do have some differences, e.g.\n",
    "\n",
    "df_val = df.iloc[2].loc['triceps_skin_fold_thickness']\n",
    "df_no_group_val = df_no_group.iloc[2].loc['triceps_skin_fold_thickness']\n",
    "\n",
    "print(f\"In df,          the value is: {df_val},\")\n",
    "print(f\"In df_no_group, the value is: {df_no_group_val}.\")\n",
    "print(\"Check: The statement, \" + \n",
    "      f\"'They are the same,' is {df_val == df_no_group_val}.\")\n",
    "\n",
    "df_vals = df.loc[[0:2], 'two_hr_serum_insulin']\n",
    "df_no_group_vals = df_no_group.loc[[0:2],'two_hr_serum_insulin']\n",
    "\n",
    "print(df_vals)\n",
    "print(df_no_group_vals)"
   ]
  },
  {
   "cell_type": "code",
   "execution_count": null,
   "metadata": {},
   "outputs": [],
   "source": [
    "#DWB\n",
    "df['glucose_concentration'].hist()\n",
    "plt.show()"
   ]
  },
  {
   "cell_type": "code",
   "execution_count": null,
   "metadata": {},
   "outputs": [],
   "source": [
    "#DWB#\n",
    "df_no_group['glucose_concentration'].hist()\n",
    "plt.show()"
   ]
  },
  {
   "cell_type": "code",
   "execution_count": null,
   "metadata": {},
   "outputs": [],
   "source": [
    "# Separate diabetic and normal samples\n",
    "diabetic = df.diabetes_class == 1\n",
    "normal = df.diabetes_class == 0"
   ]
  },
  {
   "cell_type": "code",
   "execution_count": null,
   "metadata": {},
   "outputs": [],
   "source": [
    "# Glucose concentration histogram\n",
    "plt.hist(df[diabetic].glucose_concentration,label='diabetic')\n",
    "plt.hist(df[normal].glucose_concentration,alpha=0.5,label='normal')\n",
    "plt.title('Glucose Concentration')\n",
    "plt.xlabel('Glucose concentration')\n",
    "plt.ylabel('Samples')\n",
    "plt.legend()\n",
    "plt.show()"
   ]
  },
  {
   "cell_type": "code",
   "execution_count": null,
   "metadata": {},
   "outputs": [],
   "source": [
    "# BMI histogram\n",
    "plt.hist(df[diabetic].bmi,label='diabetic')\n",
    "plt.hist(df[normal].bmi,alpha=0.5,label='normal')\n",
    "plt.title('BMI')\n",
    "plt.xlabel('BMI')\n",
    "plt.ylabel('Samples')\n",
    "plt.legend()\n",
    "plt.show()"
   ]
  },
  {
   "cell_type": "code",
   "execution_count": null,
   "metadata": {},
   "outputs": [],
   "source": [
    "# Age\n",
    "plt.hist(df[diabetic].age,label='diabetic')\n",
    "plt.hist(df[normal].age,alpha=0.5,label='normal')\n",
    "plt.title('Age')\n",
    "plt.xlabel('Age')\n",
    "plt.ylabel('Samples')\n",
    "plt.legend()\n",
    "plt.show()"
   ]
  },
  {
   "cell_type": "markdown",
   "metadata": {},
   "source": [
    "## Training and Validation Set\n",
    "### Target Variable as first column followed by input features:\n",
    "'diabetes_class', 'preg_count', 'glucose_concentration', 'diastolic_bp',\n",
    "       'triceps_skin_fold_thickness', 'two_hr_serum_insulin', 'bmi',\n",
    "       'diabetes_pedi', 'age'\n",
    "### Training, Validation files do not have a column header"
   ]
  },
  {
   "cell_type": "code",
   "execution_count": null,
   "metadata": {
    "scrolled": true
   },
   "outputs": [],
   "source": [
    "# Training = 70% of the data\n",
    "# Validation = 30% of the data\n",
    "# Randomize the datset\n",
    "np.random.seed(5)\n",
    "l = list(df.index)\n",
    "np.random.shuffle(l)\n",
    "df = df.iloc[l]"
   ]
  },
  {
   "cell_type": "code",
   "execution_count": null,
   "metadata": {
    "scrolled": true
   },
   "outputs": [],
   "source": [
    "rows = df.shape[0]\n",
    "train = int(.7 * rows)\n",
    "test = rows - train"
   ]
  },
  {
   "cell_type": "code",
   "execution_count": null,
   "metadata": {
    "scrolled": true
   },
   "outputs": [],
   "source": [
    "rows, train, test"
   ]
  },
  {
   "cell_type": "code",
   "execution_count": null,
   "metadata": {
    "scrolled": true
   },
   "outputs": [],
   "source": [
    "# Write Training Set\n",
    "df[:train].to_csv('diabetes_train.csv'\n",
    "                          ,index=False,index_label='Row',header=False\n",
    "                          ,columns=columns)"
   ]
  },
  {
   "cell_type": "code",
   "execution_count": null,
   "metadata": {
    "scrolled": true
   },
   "outputs": [],
   "source": [
    "# Write Validation Set\n",
    "df[train:].to_csv('diabetes_validation.csv'\n",
    "                          ,index=False,index_label='Row',header=False\n",
    "                          ,columns=columns)"
   ]
  },
  {
   "cell_type": "code",
   "execution_count": null,
   "metadata": {
    "scrolled": true
   },
   "outputs": [],
   "source": [
    "# Write Column List\n",
    "with open('diabetes_train_column_list.txt','w') as f:\n",
    "    f.write(','.join(columns))"
   ]
  },
  {
   "cell_type": "code",
   "execution_count": null,
   "metadata": {},
   "outputs": [],
   "source": []
  }
 ],
 "metadata": {
  "kernelspec": {
   "display_name": "conda_python3",
   "language": "python",
   "name": "conda_python3"
  },
  "language_info": {
   "codemirror_mode": {
    "name": "ipython",
    "version": 3
   },
   "file_extension": ".py",
   "mimetype": "text/x-python",
   "name": "python",
   "nbconvert_exporter": "python",
   "pygments_lexer": "ipython3",
   "version": "3.10.10"
  }
 },
 "nbformat": 4,
 "nbformat_minor": 1
}
